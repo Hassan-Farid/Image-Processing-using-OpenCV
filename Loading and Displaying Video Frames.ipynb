{
 "cells": [
  {
   "cell_type": "code",
   "execution_count": 13,
   "metadata": {},
   "outputs": [],
   "source": [
    "import cv2\n",
    "import numpy as np"
   ]
  },
  {
   "cell_type": "code",
   "execution_count": 16,
   "metadata": {},
   "outputs": [],
   "source": [
    "#Creating a Video Capture Object\n",
    "cap = cv2.VideoCapture(0) #The argument value tells which device is on(0 indicates that the first web cam is on)"
   ]
  },
  {
   "cell_type": "code",
   "execution_count": 15,
   "metadata": {},
   "outputs": [],
   "source": [
    "#Getting the video frame \n",
    "\n",
    "while True: #Infinite loop so that capture object stops on pressing a certain key\n",
    "    ret, frame = cap.read() #Reads data from the videocapture object and returns a tuple(returned value: telling whether reading was successful, frame read: the frame that was returned)\n",
    "    cv2.imshow('Frame',frame) #Displays the video frame on the screen\n",
    "    \n",
    "    if cv2.waitKey(1) & 0xFF == ord('q'): #Condition to terminate(when frame has been displayed for 1 millisecond and the q key has been pressed)\n",
    "        break\n",
    "        \n",
    "cap.release() #Destroys the videocapture object\n",
    "cv2.destroyAllWindows() #Destroys all windows created by opencv2"
   ]
  },
  {
   "cell_type": "code",
   "execution_count": 17,
   "metadata": {},
   "outputs": [],
   "source": [
    "#Now in case we want to get the gray videoframe , we will add the gray conversion to the above code\n",
    "\n",
    "while True: #Infinite loop so that capture object stops on pressing a certain key\n",
    "    ret, frame = cap.read() #Reads data from the videocapture object and returns a tuple(returned value: telling whether reading was successful, frame read: the frame that was returned)\n",
    "    gray = cv2.cvtColor(frame, cv2.COLOR_BGR2GRAY) #cv2 is originally represented using BGR forat instead of RGB, thus we converted the BGR mode to GRAYSCALE by the cvtColor(Convert Color) method\n",
    "    \n",
    "    cv2.imshow('Frame',frame) #Displays the video frame on the screen\n",
    "    cv2.imshow('Gray Frame', gray) #Displays the grayscale video frame on screen\n",
    "    \n",
    "    if cv2.waitKey(1) & 0xFF == ord('q'): #Condition to terminate(when frame has been displayed for 1 millisecond and the q key has been pressed)\n",
    "        break\n",
    "        \n",
    "cap.release() #Destroys the videocapture object\n",
    "cv2.destroyAllWindows() #Destroys all windows created by opencv2"
   ]
  },
  {
   "cell_type": "code",
   "execution_count": 18,
   "metadata": {},
   "outputs": [],
   "source": [
    "#Remember to use any one of the following codes, cause for the In[6] the videocapture object is destroyed and if you run the In[14] after it, it would cause error message since there is no videocapture object to take the frames\n",
    "\n",
    "#Now suppose we want to load a particular video file\n",
    "cap = cv2.VideoCapture('Videos/sample.mp4')\n",
    "\n",
    "while True:\n",
    "    ret, frame = cap.read()\n",
    "    gray = cv2.cvtColor(frame, cv2.COLOR_BGR2GRAY)\n",
    "    \n",
    "    cv2.imshow('Frame', frame)\n",
    "    cv2.imshow('Gray Frame', gray)\n",
    "    \n",
    "    if cv2.waitKey(25) & 0xFF == ord('q'):\n",
    "        break\n",
    "        \n",
    "cap.release()\n",
    "cv2.destroyAllWindows()"
   ]
  },
  {
   "cell_type": "code",
   "execution_count": 19,
   "metadata": {},
   "outputs": [],
   "source": [
    "#Suppose we have to save the gray scaled video of the sample, then:\n",
    "cap = cv2.VideoCapture('Videos/sample.mp4')\n",
    "fourcc = cv2.VideoWriter_fourcc(*'MPJG') #Takes the codec in which the video file is to be compressed (Here we have taken the MPJG codec)\n",
    "outfile = cv2.VideoWriter('Videos/outfile.mp4', fourcc, fps=29.97, frameSize=(256,144)) #Saves the compressed file as a video format of MP4 file with name outfile and passed specs\n",
    " \n",
    "while True:\n",
    "    ret, frame = cap.read()\n",
    "    gray = cv2.cvtColor(frame, cv2.COLOR_BGR2GRAY)\n",
    "    \n",
    "    \n",
    "    outfile.write(gray) #Writes the grayscale video format in the outfile\n",
    "    cv2.imshow('Frame', frame)\n",
    "    cv2.imshow('Gray Frame', gray)\n",
    "    \n",
    "    if cv2.waitKey(30) & 0xFF == ord('q'):\n",
    "        break\n",
    "        \n",
    "cap.release()\n",
    "outfile.release() #Destroys the outfile object\n",
    "cv2.destroyAllWindows()\n",
    "\n",
    "#Other formats of codecs and their codes are as follows:\n",
    "\n",
    "#Codecs :   Formats\n",
    "#======     =======\n",
    "#H.264  :    MP4, MKV, 3GP, FLV\n",
    "#HEVc   :    MKV\n",
    "#XVID   :    AVI,MKV\n",
    "#DIVX   :    AVI\n",
    "#MPEG1  :    VideoCD, MPG\n",
    "#MPEG2  :    DVD, Blu-Ray, MPG\n",
    "#MPEG4  :    MP4, AVI, MKV"
   ]
  }
 ],
 "metadata": {
  "kernelspec": {
   "display_name": "Python 3",
   "language": "python",
   "name": "python3"
  },
  "language_info": {
   "codemirror_mode": {
    "name": "ipython",
    "version": 3
   },
   "file_extension": ".py",
   "mimetype": "text/x-python",
   "name": "python",
   "nbconvert_exporter": "python",
   "pygments_lexer": "ipython3",
   "version": "3.7.4"
  }
 },
 "nbformat": 4,
 "nbformat_minor": 2
}
