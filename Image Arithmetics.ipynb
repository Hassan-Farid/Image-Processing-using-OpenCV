{
 "cells": [
  {
   "cell_type": "code",
   "execution_count": 47,
   "metadata": {},
   "outputs": [],
   "source": [
    "import cv2\n",
    "import numpy as np\n",
    "import pandas as pd\n",
    "from pandas import DataFrame"
   ]
  },
  {
   "cell_type": "code",
   "execution_count": 48,
   "metadata": {},
   "outputs": [],
   "source": [
    "#Loding the images\n",
    "image1 = cv2.imread('Images\\plot1.png', 1)\n",
    "image2 = cv2.imread('Images\\plot2.png', 1)"
   ]
  },
  {
   "cell_type": "code",
   "execution_count": 49,
   "metadata": {},
   "outputs": [],
   "source": [
    "#Adding the two images directly\n",
    "add = cv2.add(image1, image2)\n",
    "#cv2.add(image_object1, image_object2)"
   ]
  },
  {
   "cell_type": "code",
   "execution_count": 50,
   "metadata": {},
   "outputs": [],
   "source": [
    "#Displaying the overlapped image\n",
    "cv2.imshow('Overlapped Image:', add)\n",
    "cv2.waitKey(0)\n",
    "cv2.destroyAllWindows()"
   ]
  },
  {
   "cell_type": "code",
   "execution_count": 51,
   "metadata": {},
   "outputs": [],
   "source": [
    "#Adding images using weights\n",
    "weighted = cv2.addWeighted(image1, 0.4, image2, 0.6, 0)\n",
    "#cv2.addWeighted(alpha=image_object1, alpha_weight(% in image to obtain), beta=image_object2, beta_weight, gamma=scalar added to each sum)\n"
   ]
  },
  {
   "cell_type": "code",
   "execution_count": 52,
   "metadata": {},
   "outputs": [],
   "source": [
    "#Displaying the overlapped image\n",
    "cv2.imshow('Overlapped Image:', weighted)\n",
    "cv2.waitKey(0)\n",
    "cv2.destroyAllWindows()"
   ]
  },
  {
   "cell_type": "code",
   "execution_count": 53,
   "metadata": {},
   "outputs": [],
   "source": [
    "#Loading different size images\n",
    "image1 = cv2.imread('Images\\plot1.png', 1)\n",
    "image2 = cv2.imread('Images\\mainlogo.png', 1)"
   ]
  },
  {
   "cell_type": "code",
   "execution_count": 54,
   "metadata": {},
   "outputs": [
    {
     "data": {
      "text/plain": [
       "array([[[255, 255, 255],\n",
       "        [255, 255, 255],\n",
       "        [255, 255, 255],\n",
       "        ...,\n",
       "        [255, 255, 255],\n",
       "        [255, 255, 255],\n",
       "        [255, 255, 255]],\n",
       "\n",
       "       [[255, 255, 255],\n",
       "        [255, 255, 255],\n",
       "        [255, 255, 255],\n",
       "        ...,\n",
       "        [255, 255, 255],\n",
       "        [255, 255, 255],\n",
       "        [255, 255, 255]],\n",
       "\n",
       "       [[255, 255, 255],\n",
       "        [255, 255, 255],\n",
       "        [255, 255, 255],\n",
       "        ...,\n",
       "        [255, 255, 255],\n",
       "        [255, 255, 255],\n",
       "        [255, 255, 255]],\n",
       "\n",
       "       ...,\n",
       "\n",
       "       [[255, 255, 255],\n",
       "        [254, 254, 254],\n",
       "        [254, 254, 254],\n",
       "        ...,\n",
       "        [249, 249, 249],\n",
       "        [248, 248, 248],\n",
       "        [248, 248, 248]],\n",
       "\n",
       "       [[254, 254, 254],\n",
       "        [254, 254, 254],\n",
       "        [254, 254, 254],\n",
       "        ...,\n",
       "        [248, 248, 248],\n",
       "        [248, 248, 248],\n",
       "        [248, 248, 248]],\n",
       "\n",
       "       [[254, 254, 254],\n",
       "        [254, 254, 254],\n",
       "        [254, 254, 254],\n",
       "        ...,\n",
       "        [248, 248, 248],\n",
       "        [248, 248, 248],\n",
       "        [248, 248, 248]]], dtype=uint8)"
      ]
     },
     "execution_count": 54,
     "metadata": {},
     "output_type": "execute_result"
    }
   ],
   "source": [
    "#First we need to match the rows and columns of the images\n",
    "#Since python.png is smaller in size than plot1.png, thus we get ROI(Region of Image) of image1 where we can impose the image2\n",
    "\n",
    "rows, cols, channels = image2.shape #Shape returns a tuple containing number of rows,columns and channels of the image\n",
    "\n",
    "#Now for region of image in image1 to be imposed upon\n",
    "roi = image1[0:rows, 0:cols]\n",
    "roi"
   ]
  },
  {
   "cell_type": "code",
   "execution_count": 55,
   "metadata": {},
   "outputs": [],
   "source": [
    "#Suppose we want to get the grayscale format of the image2 then\n",
    "gray = cv2.cvtColor(image2, cv2.COLOR_BGR2GRAY)"
   ]
  },
  {
   "cell_type": "code",
   "execution_count": 56,
   "metadata": {},
   "outputs": [],
   "source": [
    "#Displaying the grayscale image\n",
    "cv2.imshow('Gray Image', gray)\n",
    "cv2.waitKey(0)\n",
    "cv2.destroyAllWindows()"
   ]
  },
  {
   "cell_type": "code",
   "execution_count": 57,
   "metadata": {},
   "outputs": [],
   "source": [
    "#Now to get the inverse binarized image, we will use the gray image\n",
    "ret, mask = cv2.threshold(gray, 220, 255, cv2.THRESH_BINARY_INV)\n",
    "#cv2.threshold(image_obj, threshold value(if value above then condition applies), changed_value(if value above threshold it gets replaced by this value), threshold_type)\n",
    "#cv2.THRESH_BINARY_INV(binary threshold inverted) is used to convert any value greater than threshold value to the changed_value and all other values to 0"
   ]
  },
  {
   "cell_type": "code",
   "execution_count": 58,
   "metadata": {},
   "outputs": [],
   "source": [
    "#Displaying the threshold image\n",
    "cv2.imshow('Binarized Inverted Image', mask)\n",
    "cv2.waitKey(0)\n",
    "cv2.destroyAllWindows()"
   ]
  },
  {
   "cell_type": "code",
   "execution_count": 59,
   "metadata": {},
   "outputs": [],
   "source": [
    "#Threshold helps in picking out the parts of image we want to take under consideration\n",
    "#Suppose we want to take the the background of the image 1 and impose the fg of image2 on it\n",
    "\n",
    "#First, finding inverse of mask operation i.e. the binarized image, to get the foreground seperated from the background\n",
    "mask_inv = cv2.bitwise_not(mask)"
   ]
  },
  {
   "cell_type": "code",
   "execution_count": 60,
   "metadata": {},
   "outputs": [],
   "source": [
    "cv2.imshow('Inverted Binarized Image', mask_inv)\n",
    "cv2.waitKey(0)\n",
    "cv2.destroyAllWindows()"
   ]
  },
  {
   "cell_type": "code",
   "execution_count": 61,
   "metadata": {},
   "outputs": [],
   "source": [
    "#Now collecting the foreground and background images\n",
    "image1_bg = cv2.bitwise_and(roi, roi, mask=mask_inv) #Since we want the background of image1\n",
    "image2_fg = cv2.bitwise_and(image2, image2, mask=mask) #Since we want the foreground of image2"
   ]
  },
  {
   "cell_type": "code",
   "execution_count": 62,
   "metadata": {},
   "outputs": [],
   "source": [
    "#Creating the combined image from the obtained foreground and background parts\n",
    "dst = cv2.add(image1_bg, image2_fg)"
   ]
  },
  {
   "cell_type": "code",
   "execution_count": 63,
   "metadata": {},
   "outputs": [],
   "source": [
    "#Imposing the obtained image in image1\n",
    "image1[0:rows, 0:cols] = dst"
   ]
  },
  {
   "cell_type": "code",
   "execution_count": 65,
   "metadata": {},
   "outputs": [],
   "source": [
    "#Displaying the imposed image\n",
    "cv2.imshow('Imposed image', dst)\n",
    "cv2.waitKey(0)\n",
    "cv2.destroyAllWindows()"
   ]
  },
  {
   "cell_type": "code",
   "execution_count": 66,
   "metadata": {},
   "outputs": [],
   "source": [
    "#Displaying the image1 after imposition\n",
    "cv2.imshow('Final Image', image1)\n",
    "cv2.waitKey(0)\n",
    "cv2.destroyAllWindows()"
   ]
  },
  {
   "cell_type": "code",
   "execution_count": null,
   "metadata": {},
   "outputs": [],
   "source": []
  }
 ],
 "metadata": {
  "kernelspec": {
   "display_name": "Python 3",
   "language": "python",
   "name": "python3"
  },
  "language_info": {
   "codemirror_mode": {
    "name": "ipython",
    "version": 3
   },
   "file_extension": ".py",
   "mimetype": "text/x-python",
   "name": "python",
   "nbconvert_exporter": "python",
   "pygments_lexer": "ipython3",
   "version": "3.7.4"
  }
 },
 "nbformat": 4,
 "nbformat_minor": 2
}
