{
 "cells": [
  {
   "cell_type": "code",
   "execution_count": 59,
   "metadata": {},
   "outputs": [],
   "source": [
    "import cv2\n",
    "import numpy as np"
   ]
  },
  {
   "cell_type": "code",
   "execution_count": 60,
   "metadata": {},
   "outputs": [],
   "source": [
    "#Loading image\n",
    "image = cv2.imread('Images/image1.jpg', cv2.IMREAD_COLOR)"
   ]
  },
  {
   "cell_type": "code",
   "execution_count": 61,
   "metadata": {},
   "outputs": [
    {
     "data": {
      "text/plain": [
       "array([[[255, 255, 255],\n",
       "        [255, 255, 255],\n",
       "        [255, 255, 255],\n",
       "        ...,\n",
       "        [245, 252, 255],\n",
       "        [239, 248, 252],\n",
       "        [233, 242, 246]],\n",
       "\n",
       "       [[255, 255, 255],\n",
       "        [255, 255, 255],\n",
       "        [255, 255, 255],\n",
       "        ...,\n",
       "        [244, 255, 255],\n",
       "        [240, 251, 255],\n",
       "        [223, 235, 239]],\n",
       "\n",
       "       [[255, 255, 255],\n",
       "        [255, 255, 255],\n",
       "        [255, 255, 255],\n",
       "        ...,\n",
       "        [194, 212, 213],\n",
       "        [209, 228, 231],\n",
       "        [204, 223, 226]],\n",
       "\n",
       "       ...,\n",
       "\n",
       "       [[ 57,  63,  68],\n",
       "        [ 54,  60,  65],\n",
       "        [ 50,  56,  61],\n",
       "        ...,\n",
       "        [138, 137, 139],\n",
       "        [118, 120, 120],\n",
       "        [113, 115, 115]],\n",
       "\n",
       "       [[ 57,  63,  68],\n",
       "        [ 55,  61,  66],\n",
       "        [ 52,  58,  63],\n",
       "        ...,\n",
       "        [144, 143, 145],\n",
       "        [127, 129, 129],\n",
       "        [123, 125, 125]],\n",
       "\n",
       "       [[ 58,  64,  69],\n",
       "        [ 57,  63,  68],\n",
       "        [ 55,  61,  66],\n",
       "        ...,\n",
       "        [145, 144, 146],\n",
       "        [139, 141, 141],\n",
       "        [142, 144, 144]]], dtype=uint8)"
      ]
     },
     "execution_count": 61,
     "metadata": {},
     "output_type": "execute_result"
    }
   ],
   "source": [
    "#Creating a line on the image\n",
    "cv2.line(image, (0,0), (150,150), (255,255,255), 15) #cv2.line(image_object, initial point, final point, color_value, line_width) #creates a line of specified arguments\n",
    "\n",
    "#Color values in cv2 are of the format BGR, thus basic values can be dispalyed using:\n",
    "\n",
    "#Color  : #Value\n",
    "#=====    ======\n",
    "\n",
    "#Black  : 0,0,0\n",
    "#Red    : 0,0,255\n",
    "#Blue   : 255,0,0\n",
    "#Green  : 0,255,0\n",
    "#Yellow : 0,255,255\n",
    "#Cyan   : 255,0,255\n",
    "#Indigo : 255,255,0"
   ]
  },
  {
   "cell_type": "code",
   "execution_count": 62,
   "metadata": {},
   "outputs": [],
   "source": [
    "#Displaying the image\n",
    "cv2.imshow('Image Window', image)\n",
    "cv2.waitKey(0)\n",
    "cv2.destroyAllWindows()"
   ]
  },
  {
   "cell_type": "code",
   "execution_count": 63,
   "metadata": {},
   "outputs": [
    {
     "data": {
      "text/plain": [
       "array([[[ 49,  76,  73],\n",
       "        [ 40,  67,  64],\n",
       "        [ 30,  57,  53],\n",
       "        ...,\n",
       "        [245, 252, 255],\n",
       "        [239, 248, 252],\n",
       "        [233, 242, 246]],\n",
       "\n",
       "       [[ 43,  70,  67],\n",
       "        [ 36,  63,  60],\n",
       "        [ 29,  56,  53],\n",
       "        ...,\n",
       "        [244, 255, 255],\n",
       "        [240, 251, 255],\n",
       "        [223, 235, 239]],\n",
       "\n",
       "       [[ 39,  67,  67],\n",
       "        [ 37,  66,  63],\n",
       "        [ 34,  63,  60],\n",
       "        ...,\n",
       "        [194, 212, 213],\n",
       "        [209, 228, 231],\n",
       "        [204, 223, 226]],\n",
       "\n",
       "       ...,\n",
       "\n",
       "       [[ 57,  63,  68],\n",
       "        [ 54,  60,  65],\n",
       "        [ 50,  56,  61],\n",
       "        ...,\n",
       "        [138, 137, 139],\n",
       "        [118, 120, 120],\n",
       "        [113, 115, 115]],\n",
       "\n",
       "       [[ 57,  63,  68],\n",
       "        [ 55,  61,  66],\n",
       "        [ 52,  58,  63],\n",
       "        ...,\n",
       "        [144, 143, 145],\n",
       "        [127, 129, 129],\n",
       "        [123, 125, 125]],\n",
       "\n",
       "       [[ 58,  64,  69],\n",
       "        [ 57,  63,  68],\n",
       "        [ 55,  61,  66],\n",
       "        ...,\n",
       "        [145, 144, 146],\n",
       "        [139, 141, 141],\n",
       "        [142, 144, 144]]], dtype=uint8)"
      ]
     },
     "execution_count": 63,
     "metadata": {},
     "output_type": "execute_result"
    }
   ],
   "source": [
    "#Loading image\n",
    "image = cv2.imread('Images/image1.jpg', cv2.IMREAD_COLOR)\n",
    "\n",
    "#Suppose we want to draw a rectangle then:\n",
    "cv2.rectangle(image, (100,200), (250,350), (0,255,0), 5)\n",
    "#cv2.rectangle(image_obj, top_left coordinate, bottom_right_coordinate, color_value, line_width)"
   ]
  },
  {
   "cell_type": "code",
   "execution_count": 64,
   "metadata": {},
   "outputs": [],
   "source": [
    "#Dispaying the image\n",
    "cv2.imshow('Image Window', image)\n",
    "cv2.waitKey(0)\n",
    "cv2.destroyAllWindows()"
   ]
  },
  {
   "cell_type": "code",
   "execution_count": 65,
   "metadata": {},
   "outputs": [
    {
     "data": {
      "text/plain": [
       "array([[[ 49,  76,  73],\n",
       "        [ 40,  67,  64],\n",
       "        [ 30,  57,  53],\n",
       "        ...,\n",
       "        [245, 252, 255],\n",
       "        [239, 248, 252],\n",
       "        [233, 242, 246]],\n",
       "\n",
       "       [[ 43,  70,  67],\n",
       "        [ 36,  63,  60],\n",
       "        [ 29,  56,  53],\n",
       "        ...,\n",
       "        [244, 255, 255],\n",
       "        [240, 251, 255],\n",
       "        [223, 235, 239]],\n",
       "\n",
       "       [[ 39,  67,  67],\n",
       "        [ 37,  66,  63],\n",
       "        [ 34,  63,  60],\n",
       "        ...,\n",
       "        [194, 212, 213],\n",
       "        [209, 228, 231],\n",
       "        [204, 223, 226]],\n",
       "\n",
       "       ...,\n",
       "\n",
       "       [[ 57,  63,  68],\n",
       "        [ 54,  60,  65],\n",
       "        [ 50,  56,  61],\n",
       "        ...,\n",
       "        [138, 137, 139],\n",
       "        [118, 120, 120],\n",
       "        [113, 115, 115]],\n",
       "\n",
       "       [[ 57,  63,  68],\n",
       "        [ 55,  61,  66],\n",
       "        [ 52,  58,  63],\n",
       "        ...,\n",
       "        [144, 143, 145],\n",
       "        [127, 129, 129],\n",
       "        [123, 125, 125]],\n",
       "\n",
       "       [[ 58,  64,  69],\n",
       "        [ 57,  63,  68],\n",
       "        [ 55,  61,  66],\n",
       "        ...,\n",
       "        [145, 144, 146],\n",
       "        [139, 141, 141],\n",
       "        [142, 144, 144]]], dtype=uint8)"
      ]
     },
     "execution_count": 65,
     "metadata": {},
     "output_type": "execute_result"
    }
   ],
   "source": [
    "#Loading image\n",
    "image = cv2.imread('Images/image1.jpg', cv2.IMREAD_COLOR)\n",
    "\n",
    "#Suppose we want to draw a circle on the image\n",
    "cv2.circle(image, (350,100) , 75, (0,0,255), -12)\n",
    "#cv2.circle(image_obj, coordinate of center, radius of circle, linewidth) #Creates a circle for the passed specs\n",
    "\n",
    "#If we pass negative line width, that means that line width is not present that is alternatively the circle will be filled"
   ]
  },
  {
   "cell_type": "code",
   "execution_count": 66,
   "metadata": {},
   "outputs": [],
   "source": [
    "#Displaying the image\n",
    "cv2.imshow('Image Window', image)\n",
    "cv2.waitKey(0)\n",
    "cv2.destroyAllWindows()"
   ]
  },
  {
   "cell_type": "code",
   "execution_count": 67,
   "metadata": {},
   "outputs": [],
   "source": [
    "#Loading image\n",
    "image = cv2.imread('Images/image1.jpg', cv2.IMREAD_COLOR)\n",
    "\n",
    "#Suppose we want to create a polygon on the image\n",
    "pts = np.array([[12,3],[14,23],[122,231],[256,345],[302,401],[315,445]], np.int32) #Creates an ndarray consisting of list of points in the polygon"
   ]
  },
  {
   "cell_type": "code",
   "execution_count": 68,
   "metadata": {},
   "outputs": [
    {
     "data": {
      "text/plain": [
       "array([[[ 49,  76,  73],\n",
       "        [ 40,  67,  64],\n",
       "        [ 30,  57,  53],\n",
       "        ...,\n",
       "        [245, 252, 255],\n",
       "        [239, 248, 252],\n",
       "        [233, 242, 246]],\n",
       "\n",
       "       [[ 43,  70,  67],\n",
       "        [ 36,  63,  60],\n",
       "        [ 29,  56,  53],\n",
       "        ...,\n",
       "        [244, 255, 255],\n",
       "        [240, 251, 255],\n",
       "        [223, 235, 239]],\n",
       "\n",
       "       [[ 39,  67,  67],\n",
       "        [ 37,  66,  63],\n",
       "        [ 34,  63,  60],\n",
       "        ...,\n",
       "        [194, 212, 213],\n",
       "        [209, 228, 231],\n",
       "        [204, 223, 226]],\n",
       "\n",
       "       ...,\n",
       "\n",
       "       [[ 57,  63,  68],\n",
       "        [ 54,  60,  65],\n",
       "        [ 50,  56,  61],\n",
       "        ...,\n",
       "        [138, 137, 139],\n",
       "        [118, 120, 120],\n",
       "        [113, 115, 115]],\n",
       "\n",
       "       [[ 57,  63,  68],\n",
       "        [ 55,  61,  66],\n",
       "        [ 52,  58,  63],\n",
       "        ...,\n",
       "        [144, 143, 145],\n",
       "        [127, 129, 129],\n",
       "        [123, 125, 125]],\n",
       "\n",
       "       [[ 58,  64,  69],\n",
       "        [ 57,  63,  68],\n",
       "        [ 55,  61,  66],\n",
       "        ...,\n",
       "        [145, 144, 146],\n",
       "        [139, 141, 141],\n",
       "        [142, 144, 144]]], dtype=uint8)"
      ]
     },
     "execution_count": 68,
     "metadata": {},
     "output_type": "execute_result"
    }
   ],
   "source": [
    "cv2.polylines(image, [pts], True, (0,255,255), 5) \n",
    "#cv.polylines(image_obj, points_array, isconnect(asks whether to connect the final point to the initial point or not), color_value, linewidth)"
   ]
  },
  {
   "cell_type": "code",
   "execution_count": 69,
   "metadata": {},
   "outputs": [],
   "source": [
    "#Displaying the image\n",
    "cv2.imshow('Image Window', image)\n",
    "cv2.waitKey(0)\n",
    "cv2.destroyAllWindows()"
   ]
  }
 ],
 "metadata": {
  "kernelspec": {
   "display_name": "Python 3",
   "language": "python",
   "name": "python3"
  },
  "language_info": {
   "codemirror_mode": {
    "name": "ipython",
    "version": 3
   },
   "file_extension": ".py",
   "mimetype": "text/x-python",
   "name": "python",
   "nbconvert_exporter": "python",
   "pygments_lexer": "ipython3",
   "version": "3.7.4"
  }
 },
 "nbformat": 4,
 "nbformat_minor": 2
}
