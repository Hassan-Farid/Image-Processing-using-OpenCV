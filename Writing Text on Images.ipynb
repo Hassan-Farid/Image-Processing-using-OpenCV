{
 "cells": [
  {
   "cell_type": "code",
   "execution_count": 24,
   "metadata": {},
   "outputs": [],
   "source": [
    "import cv2\n",
    "import numpy as np"
   ]
  },
  {
   "cell_type": "code",
   "execution_count": 25,
   "metadata": {},
   "outputs": [],
   "source": [
    "#Loading the image\n",
    "image = cv2.imread('Images\\image1.jpg', cv2.IMREAD_COLOR)"
   ]
  },
  {
   "cell_type": "code",
   "execution_count": 26,
   "metadata": {},
   "outputs": [],
   "source": [
    "#Creating text font for text to write on the image\n",
    "font = cv2.FONT_HERSHEY_SIMPLEX"
   ]
  },
  {
   "cell_type": "code",
   "execution_count": 19,
   "metadata": {},
   "outputs": [
    {
     "data": {
      "text/plain": [
       "array([[[ 49,  76,  73],\n",
       "        [ 40,  67,  64],\n",
       "        [ 30,  57,  53],\n",
       "        ...,\n",
       "        [245, 252, 255],\n",
       "        [239, 248, 252],\n",
       "        [233, 242, 246]],\n",
       "\n",
       "       [[ 43,  70,  67],\n",
       "        [ 36,  63,  60],\n",
       "        [ 29,  56,  53],\n",
       "        ...,\n",
       "        [244, 255, 255],\n",
       "        [240, 251, 255],\n",
       "        [223, 235, 239]],\n",
       "\n",
       "       [[ 39,  67,  67],\n",
       "        [ 37,  66,  63],\n",
       "        [ 34,  63,  60],\n",
       "        ...,\n",
       "        [194, 212, 213],\n",
       "        [209, 228, 231],\n",
       "        [204, 223, 226]],\n",
       "\n",
       "       ...,\n",
       "\n",
       "       [[ 57,  63,  68],\n",
       "        [ 54,  60,  65],\n",
       "        [ 50,  56,  61],\n",
       "        ...,\n",
       "        [138, 137, 139],\n",
       "        [118, 120, 120],\n",
       "        [113, 115, 115]],\n",
       "\n",
       "       [[ 57,  63,  68],\n",
       "        [ 55,  61,  66],\n",
       "        [ 52,  58,  63],\n",
       "        ...,\n",
       "        [144, 143, 145],\n",
       "        [127, 129, 129],\n",
       "        [123, 125, 125]],\n",
       "\n",
       "       [[ 58,  64,  69],\n",
       "        [ 57,  63,  68],\n",
       "        [ 55,  61,  66],\n",
       "        ...,\n",
       "        [145, 144, 146],\n",
       "        [139, 141, 141],\n",
       "        [142, 144, 144]]], dtype=uint8)"
      ]
     },
     "execution_count": 19,
     "metadata": {},
     "output_type": "execute_result"
    }
   ],
   "source": [
    "#Putting text on the image\n",
    "cv2.putText(image, 'Hello Squirrel!', (100,50), font, 1, (0,255,255), 2, cv2.LINE_AA)\n",
    "#cv2.putText(image_obj, text_to_write, initial_coordinate, font_type, font_size, color_value, line_width, line_type)\n",
    "\n",
    "#line_type: LINE_AA means that the line is antialiased"
   ]
  },
  {
   "cell_type": "code",
   "execution_count": 20,
   "metadata": {},
   "outputs": [],
   "source": [
    "#Displaying image on the screen\n",
    "cv2.imshow('Image Window', image)\n",
    "cv2.waitKey(0)\n",
    "cv2.destroyAllWindows()"
   ]
  },
  {
   "cell_type": "code",
   "execution_count": 27,
   "metadata": {},
   "outputs": [
    {
     "data": {
      "text/plain": [
       "array([[[ 49,  76,  73],\n",
       "        [ 40,  67,  64],\n",
       "        [ 30,  57,  53],\n",
       "        ...,\n",
       "        [245, 252, 255],\n",
       "        [239, 248, 252],\n",
       "        [233, 242, 246]],\n",
       "\n",
       "       [[ 43,  70,  67],\n",
       "        [ 36,  63,  60],\n",
       "        [ 29,  56,  53],\n",
       "        ...,\n",
       "        [244, 255, 255],\n",
       "        [240, 251, 255],\n",
       "        [223, 235, 239]],\n",
       "\n",
       "       [[ 39,  67,  67],\n",
       "        [ 37,  66,  63],\n",
       "        [ 34,  63,  60],\n",
       "        ...,\n",
       "        [194, 212, 213],\n",
       "        [209, 228, 231],\n",
       "        [204, 223, 226]],\n",
       "\n",
       "       ...,\n",
       "\n",
       "       [[ 57,  63,  68],\n",
       "        [ 54,  60,  65],\n",
       "        [ 50,  56,  61],\n",
       "        ...,\n",
       "        [138, 137, 139],\n",
       "        [118, 120, 120],\n",
       "        [113, 115, 115]],\n",
       "\n",
       "       [[ 57,  63,  68],\n",
       "        [ 55,  61,  66],\n",
       "        [ 52,  58,  63],\n",
       "        ...,\n",
       "        [144, 143, 145],\n",
       "        [127, 129, 129],\n",
       "        [123, 125, 125]],\n",
       "\n",
       "       [[ 58,  64,  69],\n",
       "        [ 57,  63,  68],\n",
       "        [ 55,  61,  66],\n",
       "        ...,\n",
       "        [145, 144, 146],\n",
       "        [139, 141, 141],\n",
       "        [142, 144, 144]]], dtype=uint8)"
      ]
     },
     "execution_count": 27,
     "metadata": {},
     "output_type": "execute_result"
    }
   ],
   "source": [
    "#We have other fonts as well in openCV:\n",
    "\n",
    "font = cv2.FONT_HERSHEY_DUPLEX\n",
    "cv2.putText(image, 'Good picture!', (100,400), font, 3, (255,0,255), 3, cv2.LINE_AA)"
   ]
  },
  {
   "cell_type": "code",
   "execution_count": 28,
   "metadata": {},
   "outputs": [],
   "source": [
    "#Displaying the image\n",
    "cv2.imshow('Image Window', image)\n",
    "cv2.waitKey(0)\n",
    "cv2.destroyAllWindows()"
   ]
  },
  {
   "cell_type": "code",
   "execution_count": null,
   "metadata": {},
   "outputs": [],
   "source": [
    "#Other font types in openCV are:\n",
    "\n",
    "#FONT_HERSHEY_SIMPLEX\n",
    "#FONT_HERSHEY_PLAIN\n",
    "#FONT_HERSHEY_DUPLEX\n",
    "#FONT_HERSHEY_TRIPLEX\n",
    "#FONT_HERSHEY_COMPLEX\n",
    "#FONT_HERSHEY_COMPLEX_SMALL\n",
    "#FONT_HERSHEY_SCRIPT_SIMPLEX\n",
    "#FONT_HERRSHEY_SCCRIPT_COMPLEX"
   ]
  }
 ],
 "metadata": {
  "kernelspec": {
   "display_name": "Python 3",
   "language": "python",
   "name": "python3"
  },
  "language_info": {
   "codemirror_mode": {
    "name": "ipython",
    "version": 3
   },
   "file_extension": ".py",
   "mimetype": "text/x-python",
   "name": "python",
   "nbconvert_exporter": "python",
   "pygments_lexer": "ipython3",
   "version": "3.7.4"
  }
 },
 "nbformat": 4,
 "nbformat_minor": 2
}
