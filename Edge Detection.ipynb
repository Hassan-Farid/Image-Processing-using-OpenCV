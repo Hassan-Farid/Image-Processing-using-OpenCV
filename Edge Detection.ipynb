{
 "cells": [
  {
   "cell_type": "code",
   "execution_count": 16,
   "metadata": {},
   "outputs": [],
   "source": [
    "import cv2\n",
    "import numpy as np"
   ]
  },
  {
   "cell_type": "code",
   "execution_count": 28,
   "metadata": {},
   "outputs": [],
   "source": [
    "#Creating the Video Capture object\n",
    "cap = cv2.VideoCapture(0) #Opens the first web cam in your device"
   ]
  },
  {
   "cell_type": "code",
   "execution_count": 29,
   "metadata": {},
   "outputs": [],
   "source": [
    "#Displaying video frames\n",
    "while True:\n",
    "    ret, frame = cap.read() #Reads the frame from the VideoCapture object\n",
    "    \n",
    "    #Creating gray scale frame\n",
    "    gray_frame = cv2.cvtColor(frame, cv2.COLOR_BGR2GRAY)\n",
    "    \n",
    "    #Applying Laplacian operator, we can compute the edges of the given frame\n",
    "    laplace_frame = cv2.Laplacian(gray_frame, cv2.CV_32F)\n",
    "    \n",
    "    #Applying sobel operator in x direction (horizontally)\n",
    "    sobelx_frame = cv2.Sobel(gray_frame, cv2.CV_32F, 1, 0, ksize=5)\n",
    "    \n",
    "    #Applying sobel operator in y direction (vertically)\n",
    "    sobely_frame = cv2.Sobel(gray_frame, cv2.CV_32F, 0, 1, ksize=5)\n",
    "    \n",
    "    #Applying built-in edge detector\n",
    "    canny_frame = cv2.Canny(gray_frame, 50, 50)\n",
    "    \n",
    "    #Displaying both frames\n",
    "    cv2.imshow('Image', frame)\n",
    "    cv2.imshow('Laplace Image', laplace_frame)\n",
    "    cv2.imshow('SobelX Image', sobelx_frame)\n",
    "    cv2.imshow('SobelY Image', sobely_frame)\n",
    "    cv2.imshow('Canny Image', canny_frame)\n",
    "    \n",
    "    #The exit condition\n",
    "    if cv2.waitKey(5) & 0xFF == ord('q'):\n",
    "        break\n",
    "    \n",
    "#Destroy capture object\n",
    "cap.release()\n",
    "#Destroy all windows of opencv\n",
    "cv2.destroyAllWindows()"
   ]
  },
  {
   "cell_type": "code",
   "execution_count": null,
   "metadata": {},
   "outputs": [],
   "source": []
  }
 ],
 "metadata": {
  "kernelspec": {
   "display_name": "Python 3",
   "language": "python",
   "name": "python3"
  },
  "language_info": {
   "codemirror_mode": {
    "name": "ipython",
    "version": 3
   },
   "file_extension": ".py",
   "mimetype": "text/x-python",
   "name": "python",
   "nbconvert_exporter": "python",
   "pygments_lexer": "ipython3",
   "version": "3.7.4"
  }
 },
 "nbformat": 4,
 "nbformat_minor": 2
}
