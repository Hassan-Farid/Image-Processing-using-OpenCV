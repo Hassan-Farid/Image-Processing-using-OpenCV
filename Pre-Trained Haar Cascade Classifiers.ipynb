{
 "cells": [
  {
   "cell_type": "code",
   "execution_count": 10,
   "metadata": {},
   "outputs": [],
   "source": [
    "import cv2\n",
    "import numpy as np"
   ]
  },
  {
   "cell_type": "code",
   "execution_count": 11,
   "metadata": {},
   "outputs": [],
   "source": [
    "#Haar Cascade Classifier is a classifier that detects the object in a certain image or video frame for which it has been trained for.\n",
    "#Normally, it is created for different objects using their positive and negative images\n",
    "#But opencv has builtin pre-trained haar cascade classifiers for certain features like face, eyes, etc. which can help in performing face recognition without wasting much time on coding them\n",
    "\n",
    "#These cascade classifiers are stored in the cv2.CascadeClassifier methods\n",
    "#The recognition depends upon which feature's file are you passing as an argument\n",
    "#To apply these classifiers first we need to get them from the url: https://github.com/opencv/opencv/tree/master/data/haarcascades"
   ]
  },
  {
   "cell_type": "code",
   "execution_count": 16,
   "metadata": {},
   "outputs": [],
   "source": [
    "#Once downloaded we will use these files to our program\n",
    "#In this case, since its face recognition we are using hence we are going to use the classifiers for eyes and front face\n",
    "#Now loading the classifiers using the cv2.CascadeClassifier() method\n",
    "\n",
    "face_cascade = cv2.CascadeClassifier('Pre-Trained Classifiers/haarcascade_frontalface_default.xml')\n",
    "eyes_cascade = cv2.CascadeClassifier('Pre-Trained Classifiers/haarcascade_eye.xml')"
   ]
  },
  {
   "cell_type": "code",
   "execution_count": 17,
   "metadata": {},
   "outputs": [],
   "source": [
    "#Now creating the VideoCapture object\n",
    "cap = cv2.VideoCapture(0) "
   ]
  },
  {
   "cell_type": "code",
   "execution_count": 18,
   "metadata": {},
   "outputs": [],
   "source": [
    "#For running pre-trained classifiers on your images or video frames\n",
    "while True:\n",
    "    ret, frame = cap.read() #Reading frame from the capture object\n",
    "    gray_frame = cv2.cvtColor(frame, cv2.COLOR_BGR2GRAY) #To ease the operations to perform\n",
    "    \n",
    "    faces = face_cascade.detectMultiScale(gray_frame, 1.3, 5)\n",
    "    #face_cascade.detectMultiScale(image_obj, minimum_size_of_object, maximum_size_of_object) #Detects objects of different sizes and returns them as a list of rectangles\n",
    "    \n",
    "    for (x,y,w,h) in faces: #Taking the coordinates of rectangle returned by detector\n",
    "        cv2.rectangle(frame, (x,y), (x+w,y+h), (0,255,0), 2) #Drawing a green rectangle for every face in the frame or image\n",
    "        \n",
    "        #Now we know that the eyes in the face we re recognizing will be within the face block\n",
    "        #Thus, we can create the image detection area of eye from that of the coordinates of the face\n",
    "        roi_gray_frame = gray_frame[y:y+h, x:x+w] #Declaring region of image for eye detection in gray scale for processing\n",
    "        roi_frame = frame[y:y+h, x:x+w] #Declaring region of actual image for eye detection where rectangles for detected eyes will be shown\n",
    "        \n",
    "        eyes = eyes_cascade.detectMultiScale(roi_gray_frame)\n",
    "        \n",
    "        for (ex,ey,ew,eh) in eyes: #Taking the coordinates of rectangle returned by detector\n",
    "            cv2.rectangle(roi_frame, (ex,ey), (ex+ew,ey+eh), (255,0,0), 2) #Drawing a blue rectangle for every eye in the frame or image\n",
    "            \n",
    "    #Displaying the frame\n",
    "    cv2.imshow('Frame', frame)\n",
    "    \n",
    "    if cv2.waitKey(30) & 0xFF == ord('q'):  #Terminates on pressing 'Q'\n",
    "        break\n",
    "        \n",
    "#Destroying VideoCapture object\n",
    "cap.release()\n",
    "\n",
    "#Destroying all windows opened by opencv\n",
    "cv2.destroyAllWindows()"
   ]
  }
 ],
 "metadata": {
  "kernelspec": {
   "display_name": "Python 3",
   "language": "python",
   "name": "python3"
  },
  "language_info": {
   "codemirror_mode": {
    "name": "ipython",
    "version": 3
   },
   "file_extension": ".py",
   "mimetype": "text/x-python",
   "name": "python",
   "nbconvert_exporter": "python",
   "pygments_lexer": "ipython3",
   "version": "3.7.4"
  }
 },
 "nbformat": 4,
 "nbformat_minor": 2
}
