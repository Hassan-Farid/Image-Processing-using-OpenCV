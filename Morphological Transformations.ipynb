{
 "cells": [
  {
   "cell_type": "code",
   "execution_count": 2,
   "metadata": {},
   "outputs": [],
   "source": [
    "import cv2\n",
    "import numpy as np\n",
    "import matplotlib.pyplot as plt"
   ]
  },
  {
   "cell_type": "code",
   "execution_count": 36,
   "metadata": {},
   "outputs": [],
   "source": [
    "#Loading the image\n",
    "image = cv2.imread('images\\cv_img.png')"
   ]
  },
  {
   "cell_type": "code",
   "execution_count": 37,
   "metadata": {},
   "outputs": [],
   "source": [
    "#Creating grayscale image\n",
    "gray = cv2.cvtColor(image, cv2.COLOR_BGR2GRAY)"
   ]
  },
  {
   "cell_type": "code",
   "execution_count": 38,
   "metadata": {},
   "outputs": [],
   "source": [
    "#Displaying the image\n",
    "cv2.imshow('Gray', gray)\n",
    "cv2.waitKey(0)\n",
    "cv2.destroyAllWindows()"
   ]
  },
  {
   "cell_type": "code",
   "execution_count": 39,
   "metadata": {},
   "outputs": [],
   "source": [
    "#Morphological Transformation are certain simple functions which allow to remove certain imperfections and nosie from the image\n",
    "#The basic types of morphological transformations are as follows:\n",
    "\n",
    "#1. Erosion\n",
    "#2. Dilation\n",
    "#3. Opening\n",
    "#4. Closing\n",
    "#5. Top Hat\n",
    "#6. Black Hat\n",
    "#7. Gradient"
   ]
  },
  {
   "cell_type": "code",
   "execution_count": 40,
   "metadata": {},
   "outputs": [],
   "source": [
    "#1.Erosion: Erosion Transformation erodes the boundaries of the image since in this case, the only pixels that are displayed are those which show 1 value for the kernel window as well\n",
    "\n",
    "#Declaring the kernel window\n",
    "kernel = np.ones((3,3), np.uint8)\n",
    "\n",
    "#Now applying the erosion transformation\n",
    "erode_mask = cv2.erode(gray, kernel, iterations=1)\n",
    "#cv2.erode(image_object, kernel_window_size, times_erosion_is_to_apply)"
   ]
  },
  {
   "cell_type": "code",
   "execution_count": 41,
   "metadata": {},
   "outputs": [],
   "source": [
    "#2. Dilation: Dilation Transformation dialates the boundaries of the image since in this case, the whole kernel windows are displayed in which atleast single pixel shows 1 value in the window\n",
    "\n",
    "#Applying the dialation transformation\n",
    "dilate_mask = cv2.dilate(gray, kernel, iterations=1)\n",
    "#cv2.dilate(image_object, kernel_window_size, times_dilation_is_to_apply)"
   ]
  },
  {
   "cell_type": "code",
   "execution_count": 42,
   "metadata": {},
   "outputs": [],
   "source": [
    "#3. Opening: A composit transformation in which erosion takes place first and then dialation takes place. It can remove white noise on the screen outside the object under consideration\n",
    "\n",
    "#Applying the opening transformation\n",
    "open_mask = cv2.morphologyEx(gray, cv2.MORPH_OPEN, kernel)\n",
    "#cv2.morphologyEx(image_object, transformation_type, kernel_size)"
   ]
  },
  {
   "cell_type": "code",
   "execution_count": 43,
   "metadata": {},
   "outputs": [],
   "source": [
    "#4. Closing: A composit transformation in which dialtion takes place first and then erosion takes place. It can remove black noise on the screen inside the object under consideration\n",
    "\n",
    "#Applying the closing transformation\n",
    "close_mask = cv2.morphologyEx(gray, cv2.MORPH_CLOSE, kernel)\n",
    "#cv2.morphologyEx(image_object, transformation_type, kernel_size)"
   ]
  },
  {
   "cell_type": "code",
   "execution_count": 44,
   "metadata": {},
   "outputs": [],
   "source": [
    "#5. Top Hat: A composit transformation which finds the difference between the input image and opening of input image\n",
    "\n",
    "#Applying the top hat transformation\n",
    "top_hat_mask = cv2.morphologyEx(gray, cv2.MORPH_TOPHAT, kernel)\n",
    "#cv2.morphologyEx(image_object, transformation_type, kernel_size)"
   ]
  },
  {
   "cell_type": "code",
   "execution_count": 45,
   "metadata": {},
   "outputs": [],
   "source": [
    "#6. Black Hat: A composit transformation which finds the difference between the closing of input image and input image\n",
    "\n",
    "#Applying the black hat transformation\n",
    "black_hat_mask = cv2.morphologyEx(gray, cv2.MORPH_BLACKHAT, kernel)\n",
    "#cv2.morphologyEx(image_object, transformation_type, kernel_size)"
   ]
  },
  {
   "cell_type": "code",
   "execution_count": 46,
   "metadata": {},
   "outputs": [],
   "source": [
    "#7. Gradient: A composit transformation which finds the difference between the dialation and erosion of the image\n",
    "\n",
    "#Applying the gradient transformation\n",
    "gradient_mask = cv2.morphologyEx(gray, cv2.MORPH_GRADIENT, kernel)\n",
    "#cv2.morphologyEx(image_object, transformation_type, kernel_size)"
   ]
  },
  {
   "cell_type": "code",
   "execution_count": 47,
   "metadata": {},
   "outputs": [],
   "source": [
    "#Now creating images for each transformation\n",
    "erode_img = cv2.bitwise_and(image, image, mask=erode_mask) #Erosion image\n",
    "dilate_img = cv2.bitwise_and(image, image, mask=dilate_mask) #Dialation image\n",
    "open_img = cv2.bitwise_and(image, image, mask=open_mask) #Opening image\n",
    "close_img = cv2.bitwise_and(image, image, mask=close_mask) #Closing image\n",
    "tophat_img = cv2.bitwise_and(image, image, mask=top_hat_mask) #TopHat image\n",
    "blackhat_img = cv2.bitwise_and(image, image, mask=black_hat_mask) #BlackHat image\n",
    "gradient_img = cv2.bitwise_and(image, image, mask=gradient_mask) #Gradient image"
   ]
  },
  {
   "cell_type": "code",
   "execution_count": 48,
   "metadata": {},
   "outputs": [],
   "source": [
    "#Displaying the images\n",
    "titles = ['Image', 'Erosion', 'Dialation', 'Opening', 'Closing', 'TopHat', 'BlackHat', 'Gradient']\n",
    "images = [image, erode_img, dilate_img, open_img, close_img, tophat_img, blackhat_img, gradient_img]\n",
    "\n",
    "for i in range(8):\n",
    "    cv2.imshow(titles[i], images[i])\n",
    "    cv2.waitKey(0)\n",
    "    \n",
    "cv2.destroyAllWindows()"
   ]
  }
 ],
 "metadata": {
  "kernelspec": {
   "display_name": "Python 3",
   "language": "python",
   "name": "python3"
  },
  "language_info": {
   "codemirror_mode": {
    "name": "ipython",
    "version": 3
   },
   "file_extension": ".py",
   "mimetype": "text/x-python",
   "name": "python",
   "nbconvert_exporter": "python",
   "pygments_lexer": "ipython3",
   "version": "3.7.4"
  }
 },
 "nbformat": 4,
 "nbformat_minor": 2
}
