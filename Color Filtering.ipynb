{
 "cells": [
  {
   "cell_type": "code",
   "execution_count": 33,
   "metadata": {},
   "outputs": [],
   "source": [
    "import cv2\n",
    "import numpy as np"
   ]
  },
  {
   "cell_type": "code",
   "execution_count": 34,
   "metadata": {},
   "outputs": [],
   "source": [
    "#Loading the image\n",
    "image = cv2.imread(r'C:\\Users\\Mr. Ghori\\Image-Processing-using-OpenCV2\\images\\apple.png')"
   ]
  },
  {
   "cell_type": "code",
   "execution_count": 35,
   "metadata": {},
   "outputs": [],
   "source": [
    "#Converting BGR Image into HSV\n",
    "hsv_image = cv2.cvtColor(image, cv2.COLOR_BGR2HSV) #Converts BGR image into HSV image\n",
    "\n",
    "#HSV: Hue Saturation Value(Hue determines color, Stauration determines its intensity and Value determines how much color exists on the image)"
   ]
  },
  {
   "cell_type": "code",
   "execution_count": 36,
   "metadata": {},
   "outputs": [],
   "source": [
    "#Declare the ranges for the specific color to detect on the screen\n",
    "lower_red = np.array([0,45,0]) #Minimum red range\n",
    "upper_red = np.array([200,255,255]) #Maximum red range"
   ]
  },
  {
   "cell_type": "code",
   "execution_count": 37,
   "metadata": {},
   "outputs": [],
   "source": [
    "#Creating mask for the detection of the object\n",
    "mask = cv2.inRange(hsv_image, lower_red, upper_red) \n",
    "\n",
    "#cv.inRange(image_obj, initial range, final range) #Creates a boolean array containing 1 if pixel of image_obj in given range otherwise 0        "
   ]
  },
  {
   "cell_type": "code",
   "execution_count": 38,
   "metadata": {},
   "outputs": [],
   "source": [
    "outfile = cv2.bitwise_and(image, image, mask=mask)\n",
    "#Displays those frame pixels that are in the mask as well"
   ]
  },
  {
   "cell_type": "code",
   "execution_count": 44,
   "metadata": {},
   "outputs": [
    {
     "data": {
      "image/png": "[encoded data removed]",
      "text/plain": [
       "<Figure size 432x288 with 3 Axes>"
      ]
     },
     "metadata": {},
     "output_type": "display_data"
    }
   ],
   "source": [
    "#Display all the images\n",
    "import matplotlib.pyplot as plt\n",
    "    \n",
    "titles = ['Image', 'Mask', 'Detection Image']\n",
    "images = [image, mask, outfile]\n",
    "    \n",
    "for i in range(3):\n",
    "    plt.subplot(1,3,i+1)\n",
    "    plt.imshow(cv2.cvtColor(images[i], cv2.COLOR_BGR2RGB)) #Since images are returned as BGR output\n",
    "    plt.title(titles[i])\n",
    "    plt.xticks([])\n",
    "    plt.yticks([])\n",
    "\n",
    "cv2.waitKey(0)\n",
    "cv2.destroyAllWindows()"
   ]
  }
 ],
 "metadata": {
  "kernelspec": {
   "display_name": "Python 3",
   "language": "python",
   "name": "python3"
  },
  "language_info": {
   "codemirror_mode": {
    "name": "ipython",
    "version": 3
   },
   "file_extension": ".py",
   "mimetype": "text/x-python",
   "name": "python",
   "nbconvert_exporter": "python",
   "pygments_lexer": "ipython3",
   "version": "3.7.4"
  }
 },
 "nbformat": 4,
 "nbformat_minor": 2
}
